{
 "cells": [
  {
   "cell_type": "markdown",
   "metadata": {},
   "source": [
    "# Mean, Median, Mode, and introducing NumPy"
   ]
  },
  {
   "cell_type": "markdown",
   "metadata": {},
   "source": [
    "## Mean vs. Median"
   ]
  },
  {
   "cell_type": "markdown",
   "metadata": {},
   "source": [
    "Let's create some fake income data, centered around 27,000 with a normal distribution and standard deviation of 15,000, with 10,000 data points. (We'll discuss those terms more later, if you're not familiar with them.)\n",
    "\n",
    "Then, compute the mean (average) - it should be close to 27,000:"
   ]
  },
  {
   "cell_type": "code",
   "execution_count": 3,
   "metadata": {},
   "outputs": [
    {
     "data": {
      "text/plain": [
       "27128.65805107976"
      ]
     },
     "execution_count": 3,
     "metadata": {},
     "output_type": "execute_result"
    }
   ],
   "source": [
    "import numpy as np\n",
    "\n",
    "incomes = np.random.normal(27000, 15000, 10000)\n",
    "np.mean(incomes)"
   ]
  },
  {
   "cell_type": "markdown",
   "metadata": {},
   "source": [
    "We can segment the income data into 50 buckets, and plot it as a histogram:"
   ]
  },
  {
   "cell_type": "code",
   "execution_count": 4,
   "metadata": {},
   "outputs": [
    {
     "data": {
      "image/png": "[encoded data removed]",
      "text/plain": [
       "<Figure size 432x288 with 1 Axes>"
      ]
     },
     "metadata": {
      "needs_background": "light"
     },
     "output_type": "display_data"
    }
   ],
   "source": [
    "%matplotlib inline\n",
    "import matplotlib.pyplot as plt\n",
    "plt.hist(incomes, 50)\n",
    "plt.show()"
   ]
  },
  {
   "cell_type": "markdown",
   "metadata": {},
   "source": [
    "Now compute the median - since we have a nice, even distribution it too should be close to 27,000:"
   ]
  },
  {
   "cell_type": "code",
   "execution_count": 5,
   "metadata": {},
   "outputs": [
    {
     "data": {
      "text/plain": [
       "27222.04632911711"
      ]
     },
     "execution_count": 5,
     "metadata": {},
     "output_type": "execute_result"
    }
   ],
   "source": [
    "np.median(incomes)"
   ]
  },
  {
   "cell_type": "markdown",
   "metadata": {},
   "source": [
    "Now we'll add Donald Trump into the mix. Darn income inequality!"
   ]
  },
  {
   "cell_type": "code",
   "execution_count": 6,
   "metadata": {},
   "outputs": [],
   "source": [
    "incomes = np.append(incomes, [1000000000])"
   ]
  },
  {
   "cell_type": "markdown",
   "metadata": {},
   "source": [
    "The median won't change much, but the mean does:"
   ]
  },
  {
   "cell_type": "code",
   "execution_count": 7,
   "metadata": {},
   "outputs": [
    {
     "data": {
      "text/plain": [
       "27224.73760649275"
      ]
     },
     "execution_count": 7,
     "metadata": {},
     "output_type": "execute_result"
    }
   ],
   "source": [
    "np.median(incomes)"
   ]
  },
  {
   "cell_type": "code",
   "execution_count": 8,
   "metadata": {},
   "outputs": [
    {
     "data": {
      "text/plain": [
       "127115.9464564341"
      ]
     },
     "execution_count": 8,
     "metadata": {},
     "output_type": "execute_result"
    }
   ],
   "source": [
    "np.mean(incomes)"
   ]
  },
  {
   "cell_type": "markdown",
   "metadata": {},
   "source": [
    "## Mode"
   ]
  },
  {
   "cell_type": "markdown",
   "metadata": {},
   "source": [
    "Next, let's generate some fake age data for 500 people:"
   ]
  },
  {
   "cell_type": "code",
   "execution_count": 9,
   "metadata": {},
   "outputs": [
    {
     "data": {
      "text/plain": [
       "array([57, 58, 41, 57, 21, 29, 58, 86, 75, 87, 42, 23, 26, 29, 53, 28, 80,\n",
       "       35, 70, 33, 75, 75, 89, 84, 18, 20, 71, 29, 80, 49, 79, 43, 80, 71,\n",
       "       20, 57, 26, 27, 66, 75, 78, 48, 77, 74, 26, 62, 36, 18, 83, 66, 65,\n",
       "       39, 82, 84, 78, 81, 37, 66, 49, 36, 61, 25, 58, 28, 89, 29, 88, 69,\n",
       "       19, 81, 81, 77, 47, 31, 57, 77, 66, 54, 88, 54, 27, 48, 83, 76, 55,\n",
       "       49, 45, 41, 52, 32, 53, 19, 50, 52, 84, 58, 80, 35, 53, 56, 87, 59,\n",
       "       52, 72, 28, 52, 45, 71, 51, 34, 41, 88, 39, 64, 59, 61, 82, 22, 54,\n",
       "       81, 20, 37, 24, 52, 29, 58, 29, 60, 56, 56, 86, 35, 81, 59, 74, 26,\n",
       "       37, 61, 19, 86, 48, 64, 75, 80, 40, 30, 29, 57, 29, 42, 73, 50, 80,\n",
       "       33, 48, 70, 73, 36, 76, 19, 32, 31, 71, 38, 18, 29, 21, 55, 58, 22,\n",
       "       70, 24, 37, 39, 77, 80, 71, 19, 31, 73, 75, 77, 56, 20, 37, 40, 88,\n",
       "       63, 30, 59, 63, 82, 18, 43, 68, 58, 24, 79, 75, 80, 43, 31, 30, 66,\n",
       "       79, 68, 67, 73, 77, 32, 81, 20, 29, 77, 26, 28, 38, 27, 72, 34, 88,\n",
       "       59, 33, 27, 87, 27, 80, 73, 63, 61, 44, 46, 87, 39, 49, 79, 44, 64,\n",
       "       51, 37, 69, 56, 81, 34, 83, 25, 41, 89, 60, 86, 53, 70, 24, 24, 26,\n",
       "       53, 78, 68, 76, 54, 32, 50, 66, 82, 82, 23, 29, 22, 85, 55, 64, 33,\n",
       "       75, 70, 59, 78, 69, 46, 66, 30, 31, 60, 36, 64, 55, 84, 52, 49, 56,\n",
       "       66, 53, 55, 74, 28, 70, 81, 26, 68, 50, 82, 67, 29, 82, 43, 50, 56,\n",
       "       69, 73, 64, 83, 55, 21, 50, 23, 84, 73, 89, 46, 66, 56, 68, 78, 49,\n",
       "       30, 47, 26, 27, 57, 33, 81, 78, 20, 52, 39, 18, 88, 53, 41, 36, 45,\n",
       "       89, 68, 18, 70, 27, 65, 43, 37, 60, 32, 81, 86, 84, 45, 84, 86, 61,\n",
       "       28, 88, 84, 85, 76, 36, 46, 53, 72, 28, 85, 86, 57, 23, 33, 74, 88,\n",
       "       79, 46, 87, 38, 29, 78, 20, 51, 38, 35, 35, 45, 76, 82, 51, 47, 44,\n",
       "       72, 40, 61, 81, 63, 72, 65, 75, 79, 33, 47, 65, 52, 49, 75, 32, 24,\n",
       "       51, 79, 56, 74, 39, 37, 32, 29, 19, 34, 70, 23, 73, 65, 50, 38, 18,\n",
       "       57, 59, 54, 32, 40, 30, 27, 56, 29, 56, 26, 54, 31, 69, 89, 68, 36,\n",
       "       65, 54, 18, 45, 82, 73, 19, 83, 47, 49, 43, 65, 68, 46, 82, 25, 24,\n",
       "       64, 39, 25, 19, 59, 86, 37, 75, 59, 41, 47, 72, 72, 79, 53, 71, 52,\n",
       "       34, 32, 37, 31, 68, 80, 88, 62, 41, 89, 18, 20, 71, 57, 37, 33, 78,\n",
       "       83, 73, 81, 40, 79, 47, 70])"
      ]
     },
     "execution_count": 9,
     "metadata": {},
     "output_type": "execute_result"
    }
   ],
   "source": [
    "ages = np.random.randint(18, high=90, size=500)\n",
    "ages"
   ]
  },
  {
   "cell_type": "code",
   "execution_count": 10,
   "metadata": {},
   "outputs": [
    {
     "data": {
      "text/plain": [
       "ModeResult(mode=array([29]), count=array([15]))"
      ]
     },
     "execution_count": 10,
     "metadata": {},
     "output_type": "execute_result"
    }
   ],
   "source": [
    "from scipy import stats\n",
    "stats.mode(ages)"
   ]
  },
  {
   "cell_type": "code",
   "execution_count": null,
   "metadata": {},
   "outputs": [],
   "source": []
  }
 ],
 "metadata": {
  "kernelspec": {
   "display_name": "Python 3",
   "language": "python",
   "name": "python3"
  },
  "language_info": {
   "codemirror_mode": {
    "name": "ipython",
    "version": 3
   },
   "file_extension": ".py",
   "mimetype": "text/x-python",
   "name": "python",
   "nbconvert_exporter": "python",
   "pygments_lexer": "ipython3",
   "version": "3.6.4"
  }
 },
 "nbformat": 4,
 "nbformat_minor": 1
}
